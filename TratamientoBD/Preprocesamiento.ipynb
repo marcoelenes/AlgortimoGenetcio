{
 "cells": [
  {
   "cell_type": "code",
   "execution_count": 1,
   "metadata": {},
   "outputs": [],
   "source": [
    "import pandas as pd\n",
    "import re"
   ]
  },
  {
   "cell_type": "code",
   "execution_count": 3,
   "metadata": {},
   "outputs": [
    {
     "name": "stdout",
     "output_type": "stream",
     "text": [
      "  COLI_FEC  E_COLI DBO_TOT  DQO_TOT    N_NO3     N_TOT   P_TOT ORTO_PO4  \\\n",
      "0   >24196     NaN    6.63  18.0872  19.6195  <19.6566   0.208    0.141   \n",
      "1   >24196  >24196    4.11  27.8784  33.4269   33.7438  0.2475   0.0979   \n",
      "2    24196    3654    6.65    16.16   8.0885    8.3008  0.1814   0.0504   \n",
      "3   >24196     776    2.34      <10  16.7725    17.031  0.1451   0.1334   \n",
      "4      663     109    2.33    25.47  14.5449   14.6639  0.1387   0.0244   \n",
      "\n",
      "      SDT  pH_CAMPO   OD_%  TEMP_AMB  TEMP_AGUA  \n",
      "0  768.00      8.20   83.7      35.3       24.6  \n",
      "1  433.28      7.97   85.8      26.7       24.3  \n",
      "2  306.56      8.02   89.8      34.6       25.8  \n",
      "3  595.20      8.05   94.3       NaN       29.9  \n",
      "4  748.80      8.27  127.6      37.4       33.1  \n"
     ]
    }
   ],
   "source": [
    "# Ruta del archivo Excel\n",
    "ruta_archivo = \"C://Users//Alienware X15//Desktop//tesis//BDSinaloa.xlsx\"\n",
    "#df = pd.read_excel(ruta_archivo,sheet_name=\"Valores\")\n",
    "\n",
    "# Leer el archivo Excel y seleccionar solo las columnas \"A\", \"C\", y \"E\"\n",
    "df = pd.read_excel(ruta_archivo, usecols=[\"pH_CAMPO\", \"TEMP_AGUA\", \"TEMP_AMB\", \"OD_%\", \"SDT\",\"DQO_TOT\",\"P_TOT\",\"N_TOT\",\"DQO_TOT\",\"DBO_TOT\",\"COLI_FEC\",\"E_COLI\",\"ORTO_PO4\",\"N_NO3\"],sheet_name=\"Valores\")\n",
    "\n",
    "# Mostrar las primeras filas del DataFrame\n",
    "print(df.head())"
   ]
  },
  {
   "cell_type": "code",
   "execution_count": 5,
   "metadata": {},
   "outputs": [
    {
     "name": "stdout",
     "output_type": "stream",
     "text": [
      "  COLI_FEC E_COLI DBO_TOT  DQO_TOT    N_NO3    N_TOT   P_TOT ORTO_PO4     SDT  \\\n",
      "0    24196    NaN    6.63  18.0872  19.6195  19.6566   0.208    0.141  768.00   \n",
      "1    24196  24196    4.11  27.8784  33.4269  33.7438  0.2475   0.0979  433.28   \n",
      "2    24196   3654    6.65    16.16   8.0885   8.3008  0.1814   0.0504  306.56   \n",
      "3    24196    776    2.34       10  16.7725   17.031  0.1451   0.1334  595.20   \n",
      "4      663    109    2.33    25.47  14.5449  14.6639  0.1387   0.0244  748.80   \n",
      "\n",
      "   pH_CAMPO   OD_%  TEMP_AMB  TEMP_AGUA  \n",
      "0      8.20   83.7      35.3       24.6  \n",
      "1      7.97   85.8      26.7       24.3  \n",
      "2      8.02   89.8      34.6       25.8  \n",
      "3      8.05   94.3       NaN       29.9  \n",
      "4      8.27  127.6      37.4       33.1  \n"
     ]
    }
   ],
   "source": [
    "# Función para eliminar el símbolo > o < al principio de cada valor\n",
    "def limpiar_simbolos(val):\n",
    "    if isinstance(val, str):\n",
    "        return re.sub(r\"^[<>]\", \"\", val)\n",
    "    return val\n",
    "\n",
    "# Aplicar la función a todas las columnas del DataFrame\n",
    "df= df.applymap(limpiar_simbolos)\n",
    "\n",
    "# Mostrar las primeras filas del DataFrame limpio\n",
    "print(df.head())"
   ]
  },
  {
   "cell_type": "code",
   "execution_count": 7,
   "metadata": {},
   "outputs": [
    {
     "name": "stdout",
     "output_type": "stream",
     "text": [
      "   COLI_FEC   E_COLI  DBO_TOT  DQO_TOT    N_NO3    N_TOT   P_TOT  ORTO_PO4  \\\n",
      "0   24196.0      NaN     6.63  18.0872  19.6195  19.6566  0.2080    0.1410   \n",
      "1   24196.0  24196.0     4.11  27.8784  33.4269  33.7438  0.2475    0.0979   \n",
      "2   24196.0   3654.0     6.65  16.1600   8.0885   8.3008  0.1814    0.0504   \n",
      "3   24196.0    776.0     2.34  10.0000  16.7725  17.0310  0.1451    0.1334   \n",
      "4     663.0    109.0     2.33  25.4700  14.5449  14.6639  0.1387    0.0244   \n",
      "\n",
      "      SDT  pH_CAMPO   OD_%  TEMP_AMB  TEMP_AGUA  \n",
      "0  768.00      8.20   83.7      35.3       24.6  \n",
      "1  433.28      7.97   85.8      26.7       24.3  \n",
      "2  306.56      8.02   89.8      34.6       25.8  \n",
      "3  595.20      8.05   94.3       NaN       29.9  \n",
      "4  748.80      8.27  127.6      37.4       33.1  \n"
     ]
    }
   ],
   "source": [
    "# Convertir todas las columnas en tipo numérico\n",
    "df = df.apply(pd.to_numeric, errors='coerce')\n",
    "\n",
    "# Mostrar las primeras filas del DataFrame transformado a numérico\n",
    "print(df.head())"
   ]
  },
  {
   "cell_type": "code",
   "execution_count": 11,
   "metadata": {},
   "outputs": [
    {
     "name": "stdout",
     "output_type": "stream",
     "text": [
      "<class 'pandas.core.frame.DataFrame'>\n",
      "Index: 3017 entries, 1 to 6389\n",
      "Data columns (total 13 columns):\n",
      " #   Column     Non-Null Count  Dtype  \n",
      "---  ------     --------------  -----  \n",
      " 0   COLI_FEC   3017 non-null   float64\n",
      " 1   E_COLI     3017 non-null   float64\n",
      " 2   DBO_TOT    3017 non-null   float64\n",
      " 3   DQO_TOT    3017 non-null   float64\n",
      " 4   N_NO3      3017 non-null   float64\n",
      " 5   N_TOT      3017 non-null   float64\n",
      " 6   P_TOT      3017 non-null   float64\n",
      " 7   ORTO_PO4   3017 non-null   float64\n",
      " 8   SDT        3017 non-null   float64\n",
      " 9   pH_CAMPO   3017 non-null   float64\n",
      " 10  OD_%       3017 non-null   float64\n",
      " 11  TEMP_AMB   3017 non-null   float64\n",
      " 12  TEMP_AGUA  3017 non-null   float64\n",
      "dtypes: float64(13)\n",
      "memory usage: 330.0 KB\n"
     ]
    }
   ],
   "source": [
    "df.dropna(how='all', inplace=True)\n",
    "df.info()\n"
   ]
  },
  {
   "cell_type": "code",
   "execution_count": 13,
   "metadata": {},
   "outputs": [],
   "source": [
    "df.to_excel(\"C://Users//Alienware X15//Desktop//tesis//BDlimpio.xlsx\", index=False)"
   ]
  }
 ],
 "metadata": {
  "kernelspec": {
   "display_name": "base",
   "language": "python",
   "name": "python3"
  },
  "language_info": {
   "codemirror_mode": {
    "name": "ipython",
    "version": 3
   },
   "file_extension": ".py",
   "mimetype": "text/x-python",
   "name": "python",
   "nbconvert_exporter": "python",
   "pygments_lexer": "ipython3",
   "version": "3.11.5"
  }
 },
 "nbformat": 4,
 "nbformat_minor": 2
}
